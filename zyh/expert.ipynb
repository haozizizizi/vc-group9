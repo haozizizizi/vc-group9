{
 "cells": [
  {
   "cell_type": "code",
   "execution_count": 15,
   "metadata": {
    "collapsed": true
   },
   "outputs": [],
   "source": [
    "import cv2\n",
    "import sklearn\n",
    "import glob\n",
    "from skimage.feature import hog\n",
    "from sklearn.model_selection import train_test_split\n",
    "from sklearn.svm import SVC\n",
    "from sklearn.linear_model import LogisticRegression\n",
    "from sklearn.tree import DecisionTreeClassifier\n",
    "from sklearn.neighbors import KNeighborsClassifier\n",
    "from sklearn.ensemble import RandomForestClassifier"
   ]
  },
  {
   "cell_type": "markdown",
   "source": [
    "### T1  start\n",
    "- Read in Dataset\n",
    "- change the dataset path here according to your folder structure"
   ],
   "metadata": {
    "collapsed": false,
    "pycharm": {
     "name": "#%% md\n"
    }
   }
  },
  {
   "cell_type": "code",
   "execution_count": 3,
   "outputs": [],
   "source": [
    "dataset_path = \"./images/\"\n",
    "\n",
    "X = []\n",
    "y = []\n",
    "\n",
    "for i in glob.glob(dataset_path + '*.png', recursive=True):\n",
    "    # The string 'i' is split using \"images\" as the delimiter, resulting in a list.\n",
    "    # The element at index 1 of the list is selected. eg.['/000_1_0001.png']\n",
    "    # From the selected string, a substring is extracted from index 1 to index 3 (excluding index 3). eg.[000]\n",
    "    # The extracted substring represents the label.\n",
    "    label = i.split(\"images\")[1][1:4]\n",
    "    y.append(label)\n",
    "    # write code to read ecah file i, and append it to list X\n",
    "    image = cv2.imread(i)\n",
    "    X.append(image)"
   ],
   "metadata": {
    "collapsed": false,
    "pycharm": {
     "name": "#%%\n"
    }
   }
  },
  {
   "cell_type": "markdown",
   "source": [
    "### T1  end\n",
    "you should have X, y with 5998 entries on each."
   ],
   "metadata": {
    "collapsed": false
   }
  },
  {
   "cell_type": "markdown",
   "source": [
    "### T2 start\n",
    "Preprocessing\n",
    "- 48x48\n",
    "- grayscale\n",
    "- Gaussian blur"
   ],
   "metadata": {
    "collapsed": false
   }
  },
  {
   "cell_type": "code",
   "execution_count": 11,
   "outputs": [],
   "source": [
    "X_processed = []\n",
    "\n",
    "for x in X:\n",
    "    # Write code to resize image x to 48x48 and store in temp_x\n",
    "    temp_x = cv2.resize(x, (48, 48))\n",
    "    # Write code to convert temp_x  to grayscale\n",
    "    gray_x = cv2.cvtColor(temp_x, cv2.COLOR_BGR2GRAY)\n",
    "    # zyh add\n",
    "    # Apply Gaussian blur to reduce noise\n",
    "    blurred_x = cv2.GaussianBlur(gray_x, (3, 3), 0)  # Adjust the kernel size as per your requirements\n",
    "    # Append the converted image into X_processed\n",
    "    X_processed.append(blurred_x)"
   ],
   "metadata": {
    "collapsed": false,
    "pycharm": {
     "name": "#%%\n"
    }
   }
  },
  {
   "cell_type": "markdown",
   "source": [
    "### T2 end"
   ],
   "metadata": {
    "collapsed": false
   }
  },
  {
   "cell_type": "markdown",
   "source": [
    "### T3 start"
   ],
   "metadata": {
    "collapsed": false
   }
  },
  {
   "cell_type": "code",
   "execution_count": 12,
   "outputs": [
    {
     "name": "stderr",
     "output_type": "stream",
     "text": [
      "C:\\Users\\zyh11\\AppData\\Local\\Programs\\Python\\Python37\\lib\\site-packages\\ipykernel_launcher.py:6: FutureWarning: `multichannel` is a deprecated argument name for `hog`. It will be removed in version 1.0. Please use `channel_axis` instead.\n",
      "  \n",
      "C:\\Users\\zyh11\\AppData\\Local\\Programs\\Python\\Python37\\lib\\site-packages\\ipykernel_launcher.py:17: FutureWarning: `multichannel` is a deprecated argument name for `hog`. It will be removed in version 1.0. Please use `channel_axis` instead.\n"
     ]
    }
   ],
   "source": [
    "# Feature extraction\n",
    "X_features = []\n",
    "for x in X_processed:\n",
    "    x_feature = hog(x, orientations=8, pixels_per_cell=(10, 10),\n",
    "                    cells_per_block=(1, 1), visualize=False, multichannel=False)\n",
    "    X_features.append(x_feature)\n",
    "\n",
    "\n",
    "# write code to Split training & testing sets using sklearn.model_selection.train_test_split\n",
    "x_train, x_test, y_train, y_test = train_test_split(X_features, y, test_size=0.2, shuffle=True)\n"
   ],
   "metadata": {
    "collapsed": false,
    "pycharm": {
     "name": "#%%\n"
    }
   }
  },
  {
   "cell_type": "markdown",
   "source": [
    "### T3 end\n"
   ],
   "metadata": {
    "collapsed": false
   }
  },
  {
   "cell_type": "markdown",
   "source": [
    "### T4 start"
   ],
   "metadata": {
    "collapsed": false
   }
  },
  {
   "cell_type": "code",
   "execution_count": 19,
   "outputs": [
    {
     "name": "stdout",
     "output_type": "stream",
     "text": [
      "svm分类器准确率： 0.9483333333333334\n"
     ]
    }
   ],
   "source": [
    "# svm分类器\n",
    "classifier = SVC()  # 初始化分类器\n",
    "classifier.fit(x_train, y_train)  # 使用训练数据训练分类器\n",
    "\n",
    "# 在测试集上评估分类器\n",
    "accuracy = classifier.score(x_test, y_test)\n",
    "print(\"svm分类器准确率：\", accuracy)\n"
   ],
   "metadata": {
    "collapsed": false,
    "pycharm": {
     "name": "#%%\n"
    }
   }
  },
  {
   "cell_type": "code",
   "execution_count": 18,
   "outputs": [
    {
     "name": "stdout",
     "output_type": "stream",
     "text": [
      "LR分类器准确率： 0.9141666666666667\n"
     ]
    }
   ],
   "source": [
    "# LogisticRegression分类器\n",
    "classifier = LogisticRegression(max_iter=500)  # 初始化分类器\n",
    "classifier.fit(x_train, y_train)  # 使用训练数据训练分类器\n",
    "\n",
    "# 在测试集上评估分类器\n",
    "accuracy = classifier.score(x_test, y_test)\n",
    "print(\"LR分类器准确率：\", accuracy)"
   ],
   "metadata": {
    "collapsed": false,
    "pycharm": {
     "name": "#%%\n"
    }
   }
  },
  {
   "cell_type": "code",
   "execution_count": 20,
   "outputs": [
    {
     "name": "stdout",
     "output_type": "stream",
     "text": [
      "DecisionTreeClassifier准确率： 0.935\n"
     ]
    }
   ],
   "source": [
    "# DecisionTreeClassifier\n",
    "classifier = DecisionTreeClassifier()  # 初始化分类器\n",
    "classifier.fit(x_train, y_train)  # 使用训练数据训练分类器\n",
    "\n",
    "# 在测试集上评估分类器\n",
    "accuracy = classifier.score(x_test, y_test)\n",
    "print(\"DecisionTreeClassifier准确率：\", accuracy)"
   ],
   "metadata": {
    "collapsed": false,
    "pycharm": {
     "name": "#%%\n"
    }
   }
  },
  {
   "cell_type": "code",
   "execution_count": 21,
   "outputs": [
    {
     "name": "stdout",
     "output_type": "stream",
     "text": [
      "KNeighborsClassifier准确率： 0.8608333333333333\n"
     ]
    }
   ],
   "source": [
    "# KNeighborsClassifier\n",
    "classifier = KNeighborsClassifier()  # 初始化分类器\n",
    "classifier.fit(x_train, y_train)  # 使用训练数据训练分类器\n",
    "\n",
    "# 在测试集上评估分类器\n",
    "accuracy = classifier.score(x_test, y_test)\n",
    "print(\"KNeighborsClassifier准确率：\", accuracy)"
   ],
   "metadata": {
    "collapsed": false,
    "pycharm": {
     "name": "#%%\n"
    }
   }
  },
  {
   "cell_type": "code",
   "execution_count": 22,
   "outputs": [
    {
     "name": "stdout",
     "output_type": "stream",
     "text": [
      "RandomForestClassifier准确率： 0.9716666666666667\n"
     ]
    }
   ],
   "source": [
    "# RandomForestClassifier\n",
    "classifier = RandomForestClassifier()  # 初始化分类器\n",
    "classifier.fit(x_train, y_train)  # 使用训练数据训练分类器\n",
    "\n",
    "# 在测试集上评估分类器\n",
    "accuracy = classifier.score(x_test, y_test)\n",
    "print(\"RandomForestClassifier准确率：\", accuracy)\n"
   ],
   "metadata": {
    "collapsed": false,
    "pycharm": {
     "name": "#%%\n"
    }
   }
  }
 ],
 "metadata": {
  "kernelspec": {
   "display_name": "Python 3",
   "language": "python",
   "name": "python3"
  },
  "language_info": {
   "codemirror_mode": {
    "name": "ipython",
    "version": 2
   },
   "file_extension": ".py",
   "mimetype": "text/x-python",
   "name": "python",
   "nbconvert_exporter": "python",
   "pygments_lexer": "ipython2",
   "version": "2.7.6"
  }
 },
 "nbformat": 4,
 "nbformat_minor": 0
}